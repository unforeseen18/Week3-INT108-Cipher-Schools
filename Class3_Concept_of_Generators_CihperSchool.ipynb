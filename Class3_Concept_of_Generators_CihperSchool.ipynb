{
  "nbformat": 4,
  "nbformat_minor": 0,
  "metadata": {
    "colab": {
      "provenance": [],
      "authorship_tag": "ABX9TyOHMcOYKjYQm/aaY4qVcmqU",
      "include_colab_link": true
    },
    "kernelspec": {
      "name": "python3",
      "display_name": "Python 3"
    },
    "language_info": {
      "name": "python"
    }
  },
  "cells": [
    {
      "cell_type": "markdown",
      "metadata": {
        "id": "view-in-github",
        "colab_type": "text"
      },
      "source": [
        "<a href=\"https://colab.research.google.com/github/githubtanush/week3-Python-CipherSchools/blob/main/Class21_Concept_of_Generators_CihperSchool.ipynb\" target=\"_parent\"><img src=\"https://colab.research.google.com/assets/colab-badge.svg\" alt=\"Open In Colab\"/></a>"
      ]
    },
    {
      "cell_type": "code",
      "execution_count": 1,
      "metadata": {
        "id": "ODMTbklaetva"
      },
      "outputs": [],
      "source": [
        "# Generators"
      ]
    },
    {
      "cell_type": "code",
      "source": [
        "# Eager Loading\n",
        "def generate_squares(n):\n",
        "    return [ i**2 for i in range(1, n) ]\n",
        "    # for i in range(1, 100):\n",
        "    #     a.append(i**2)\n",
        "\n",
        "    # return a\n",
        "\n",
        "# for x in a:\n",
        "#     print(x)"
      ],
      "metadata": {
        "id": "z2nXe8Rteuue"
      },
      "execution_count": 2,
      "outputs": []
    },
    {
      "cell_type": "code",
      "source": [
        "for x in generate_squares(100):\n",
        "    print(x)"
      ],
      "metadata": {
        "colab": {
          "base_uri": "https://localhost:8080/"
        },
        "id": "3fnhw_RweuxP",
        "outputId": "9630caf8-7eb3-493c-f1ae-c93f52a83c12"
      },
      "execution_count": 3,
      "outputs": [
        {
          "output_type": "stream",
          "name": "stdout",
          "text": [
            "1\n",
            "4\n",
            "9\n",
            "16\n",
            "25\n",
            "36\n",
            "49\n",
            "64\n",
            "81\n",
            "100\n",
            "121\n",
            "144\n",
            "169\n",
            "196\n",
            "225\n",
            "256\n",
            "289\n",
            "324\n",
            "361\n",
            "400\n",
            "441\n",
            "484\n",
            "529\n",
            "576\n",
            "625\n",
            "676\n",
            "729\n",
            "784\n",
            "841\n",
            "900\n",
            "961\n",
            "1024\n",
            "1089\n",
            "1156\n",
            "1225\n",
            "1296\n",
            "1369\n",
            "1444\n",
            "1521\n",
            "1600\n",
            "1681\n",
            "1764\n",
            "1849\n",
            "1936\n",
            "2025\n",
            "2116\n",
            "2209\n",
            "2304\n",
            "2401\n",
            "2500\n",
            "2601\n",
            "2704\n",
            "2809\n",
            "2916\n",
            "3025\n",
            "3136\n",
            "3249\n",
            "3364\n",
            "3481\n",
            "3600\n",
            "3721\n",
            "3844\n",
            "3969\n",
            "4096\n",
            "4225\n",
            "4356\n",
            "4489\n",
            "4624\n",
            "4761\n",
            "4900\n",
            "5041\n",
            "5184\n",
            "5329\n",
            "5476\n",
            "5625\n",
            "5776\n",
            "5929\n",
            "6084\n",
            "6241\n",
            "6400\n",
            "6561\n",
            "6724\n",
            "6889\n",
            "7056\n",
            "7225\n",
            "7396\n",
            "7569\n",
            "7744\n",
            "7921\n",
            "8100\n",
            "8281\n",
            "8464\n",
            "8649\n",
            "8836\n",
            "9025\n",
            "9216\n",
            "9409\n",
            "9604\n",
            "9801\n"
          ]
        }
      ]
    },
    {
      "cell_type": "code",
      "source": [
        "# Keyword: 'yield'"
      ],
      "metadata": {
        "id": "9qRxF4cFeuzl"
      },
      "execution_count": 5,
      "outputs": []
    },
    {
      "cell_type": "code",
      "source": [
        "from time import sleep"
      ],
      "metadata": {
        "id": "z11HKyS1eu2M"
      },
      "execution_count": 6,
      "outputs": []
    },
    {
      "cell_type": "code",
      "source": [
        "def func():\n",
        "    print(\"started\")\n",
        "    yield\n",
        "    # for i in generate_squares(1000000000000000):\n",
        "    #     pass\n",
        "    sleep(5)\n",
        "    print(\"ended\")\n"
      ],
      "metadata": {
        "id": "liALoTzMeu4z"
      },
      "execution_count": 7,
      "outputs": []
    },
    {
      "cell_type": "code",
      "source": [
        "print(\"hello\")\n",
        "it = iter(func())\n",
        "next(it)\n",
        "print(\"world\")\n",
        "next(it)\n",
        "In [ ]:\n"
      ],
      "metadata": {
        "colab": {
          "base_uri": "https://localhost:8080/",
          "height": 130
        },
        "id": "WTtMC2Iaeu7K",
        "outputId": "d697fe73-0498-4967-c59f-81187b764458"
      },
      "execution_count": 8,
      "outputs": [
        {
          "output_type": "error",
          "ename": "SyntaxError",
          "evalue": "ignored",
          "traceback": [
            "\u001b[0;36m  File \u001b[0;32m\"<ipython-input-8-85f3bf38eb9c>\"\u001b[0;36m, line \u001b[0;32m6\u001b[0m\n\u001b[0;31m    In [ ]:\u001b[0m\n\u001b[0m         ^\u001b[0m\n\u001b[0;31mSyntaxError\u001b[0m\u001b[0;31m:\u001b[0m invalid syntax\n"
          ]
        }
      ]
    },
    {
      "cell_type": "code",
      "source": [
        "def func():\n",
        "    print(\"start\")\n",
        "    yield 1\n",
        "    print(\"yielded 1\")\n",
        "    yield 2\n",
        "    print(\"yielded 2\")"
      ],
      "metadata": {
        "id": "TwCs5KJZeu9w"
      },
      "execution_count": 9,
      "outputs": []
    },
    {
      "cell_type": "code",
      "source": [
        "it = iter(func())"
      ],
      "metadata": {
        "id": "FfB6neDLevAW"
      },
      "execution_count": 10,
      "outputs": []
    },
    {
      "cell_type": "code",
      "source": [
        "next(it)"
      ],
      "metadata": {
        "colab": {
          "base_uri": "https://localhost:8080/"
        },
        "id": "rdfS4172evCt",
        "outputId": "92a73d1d-a8ee-4142-dc03-00c282ce773b"
      },
      "execution_count": 11,
      "outputs": [
        {
          "output_type": "stream",
          "name": "stdout",
          "text": [
            "start\n"
          ]
        },
        {
          "output_type": "execute_result",
          "data": {
            "text/plain": [
              "1"
            ]
          },
          "metadata": {},
          "execution_count": 11
        }
      ]
    },
    {
      "cell_type": "code",
      "source": [
        "next(it)"
      ],
      "metadata": {
        "colab": {
          "base_uri": "https://localhost:8080/"
        },
        "id": "m6RPWw-mevFT",
        "outputId": "504f7cd6-7155-462f-860d-4a0acfb70c0e"
      },
      "execution_count": 12,
      "outputs": [
        {
          "output_type": "stream",
          "name": "stdout",
          "text": [
            "yielded 1\n"
          ]
        },
        {
          "output_type": "execute_result",
          "data": {
            "text/plain": [
              "2"
            ]
          },
          "metadata": {},
          "execution_count": 12
        }
      ]
    },
    {
      "cell_type": "code",
      "source": [
        "# Lazy Loading\n",
        "def generate_squares(n):\n",
        "    for i in range(1, n):\n",
        "        yield i**2"
      ],
      "metadata": {
        "id": "tgC43x0-evH5"
      },
      "execution_count": 14,
      "outputs": []
    },
    {
      "cell_type": "code",
      "source": [
        "a = generate_squares(10)"
      ],
      "metadata": {
        "id": "RnLKTX2KevKS"
      },
      "execution_count": 13,
      "outputs": []
    },
    {
      "cell_type": "code",
      "source": [
        "type(a)"
      ],
      "metadata": {
        "colab": {
          "base_uri": "https://localhost:8080/"
        },
        "id": "_uWDceOtevM4",
        "outputId": "044fec94-e715-4981-cb18-e08b2f5d6e10"
      },
      "execution_count": 17,
      "outputs": [
        {
          "output_type": "execute_result",
          "data": {
            "text/plain": [
              "list"
            ]
          },
          "metadata": {},
          "execution_count": 17
        }
      ]
    },
    {
      "cell_type": "code",
      "source": [
        "it = iter(generate_squares(10))\n"
      ],
      "metadata": {
        "id": "A_mzIFnzevPg"
      },
      "execution_count": 15,
      "outputs": []
    },
    {
      "cell_type": "code",
      "source": [
        "next(it)"
      ],
      "metadata": {
        "colab": {
          "base_uri": "https://localhost:8080/"
        },
        "id": "vBUmJ0gAfZhU",
        "outputId": "8bd4be31-522a-4e79-ecf8-2e11391dd03b"
      },
      "execution_count": 16,
      "outputs": [
        {
          "output_type": "execute_result",
          "data": {
            "text/plain": [
              "1"
            ]
          },
          "metadata": {},
          "execution_count": 16
        }
      ]
    },
    {
      "cell_type": "code",
      "source": [
        "a = generate_squares(10)"
      ],
      "metadata": {
        "id": "v4a-fZe2fZkF"
      },
      "execution_count": 18,
      "outputs": []
    },
    {
      "cell_type": "code",
      "source": [
        "next(a)"
      ],
      "metadata": {
        "colab": {
          "base_uri": "https://localhost:8080/"
        },
        "id": "II7aV8gsfZm9",
        "outputId": "77e84384-c6a5-41de-9e0f-da585a8d198c"
      },
      "execution_count": 19,
      "outputs": [
        {
          "output_type": "execute_result",
          "data": {
            "text/plain": [
              "1"
            ]
          },
          "metadata": {},
          "execution_count": 19
        }
      ]
    },
    {
      "cell_type": "code",
      "source": [
        "for i in generate_squares(10):\n",
        "    print(i)"
      ],
      "metadata": {
        "colab": {
          "base_uri": "https://localhost:8080/"
        },
        "id": "DDOn4lvifZpy",
        "outputId": "1a3820bf-1c8c-4bf8-ab8c-6a22682bc74a"
      },
      "execution_count": 20,
      "outputs": [
        {
          "output_type": "stream",
          "name": "stdout",
          "text": [
            "1\n",
            "4\n",
            "9\n",
            "16\n",
            "25\n",
            "36\n",
            "49\n",
            "64\n",
            "81\n"
          ]
        }
      ]
    },
    {
      "cell_type": "code",
      "source": [
        "a = ( i**2 for i in range (10) )"
      ],
      "metadata": {
        "id": "PQZgu8eMfZsK"
      },
      "execution_count": 21,
      "outputs": []
    },
    {
      "cell_type": "code",
      "source": [
        "# type(a)\n",
        "for i in a:\n",
        "    print(i)"
      ],
      "metadata": {
        "colab": {
          "base_uri": "https://localhost:8080/"
        },
        "id": "dSvRSPkQfZuy",
        "outputId": "adbcf06c-3bdf-4062-ea2b-1d65047c6734"
      },
      "execution_count": 22,
      "outputs": [
        {
          "output_type": "stream",
          "name": "stdout",
          "text": [
            "0\n",
            "1\n",
            "4\n",
            "9\n",
            "16\n",
            "25\n",
            "36\n",
            "49\n",
            "64\n",
            "81\n"
          ]
        }
      ]
    },
    {
      "cell_type": "code",
      "source": [
        "for i in a:\n",
        "    print(i)"
      ],
      "metadata": {
        "id": "WHP6HZNEfZxe"
      },
      "execution_count": 23,
      "outputs": []
    },
    {
      "cell_type": "code",
      "source": [
        "a = (i**2 for i in range(10))"
      ],
      "metadata": {
        "id": "qYcYGwgWfZ0A"
      },
      "execution_count": 24,
      "outputs": []
    },
    {
      "cell_type": "code",
      "source": [
        "iter(a)"
      ],
      "metadata": {
        "colab": {
          "base_uri": "https://localhost:8080/"
        },
        "id": "SAqtALu9fpri",
        "outputId": "83fcf37f-1c77-4d9f-e1a9-9785b317ed44"
      },
      "execution_count": 25,
      "outputs": [
        {
          "output_type": "execute_result",
          "data": {
            "text/plain": [
              "<generator object <genexpr> at 0x7f655633dd60>"
            ]
          },
          "metadata": {},
          "execution_count": 25
        }
      ]
    },
    {
      "cell_type": "code",
      "source": [
        "a"
      ],
      "metadata": {
        "colab": {
          "base_uri": "https://localhost:8080/"
        },
        "id": "tNwIhDP_fppE",
        "outputId": "f5e9220c-a842-4722-b86e-3dd279274172"
      },
      "execution_count": 26,
      "outputs": [
        {
          "output_type": "execute_result",
          "data": {
            "text/plain": [
              "<generator object <genexpr> at 0x7f655633dd60>"
            ]
          },
          "metadata": {},
          "execution_count": 26
        }
      ]
    },
    {
      "cell_type": "code",
      "source": [
        "next(a)"
      ],
      "metadata": {
        "colab": {
          "base_uri": "https://localhost:8080/"
        },
        "id": "u1o7RujKfpmn",
        "outputId": "8dce00ef-998c-44c3-cc79-79db525d7c01"
      },
      "execution_count": 27,
      "outputs": [
        {
          "output_type": "execute_result",
          "data": {
            "text/plain": [
              "0"
            ]
          },
          "metadata": {},
          "execution_count": 27
        }
      ]
    },
    {
      "cell_type": "code",
      "source": [
        "next(a)"
      ],
      "metadata": {
        "colab": {
          "base_uri": "https://localhost:8080/"
        },
        "id": "A8SUmsHNfpkB",
        "outputId": "465e1876-cd6c-4f4c-96d9-653065ad970d"
      },
      "execution_count": 28,
      "outputs": [
        {
          "output_type": "execute_result",
          "data": {
            "text/plain": [
              "1"
            ]
          },
          "metadata": {},
          "execution_count": 28
        }
      ]
    },
    {
      "cell_type": "code",
      "source": [
        "for i in a:\n",
        "    print(i)"
      ],
      "metadata": {
        "colab": {
          "base_uri": "https://localhost:8080/"
        },
        "id": "zsD_o7TFfphX",
        "outputId": "b46cec9e-5bf3-455e-dea6-0e28a086891f"
      },
      "execution_count": 29,
      "outputs": [
        {
          "output_type": "stream",
          "name": "stdout",
          "text": [
            "4\n",
            "9\n",
            "16\n",
            "25\n",
            "36\n",
            "49\n",
            "64\n",
            "81\n"
          ]
        }
      ]
    }
  ]
}