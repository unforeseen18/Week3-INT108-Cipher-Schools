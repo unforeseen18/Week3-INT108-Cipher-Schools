{
  "nbformat": 4,
  "nbformat_minor": 0,
  "metadata": {
    "colab": {
      "provenance": [],
      "authorship_tag": "ABX9TyODNloqYzbnjJohMuLgoD1c",
      "include_colab_link": true
    },
    "kernelspec": {
      "name": "python3",
      "display_name": "Python 3"
    },
    "language_info": {
      "name": "python"
    }
  },
  "cells": [
    {
      "cell_type": "markdown",
      "metadata": {
        "id": "view-in-github",
        "colab_type": "text"
      },
      "source": [
        "<a href=\"https://colab.research.google.com/github/githubtanush/week3-Python-CipherSchools/blob/main/Class20_Inheritance_MRO_and_Iteration_Protocol_CipherSchools.ipynb\" target=\"_parent\"><img src=\"https://colab.research.google.com/assets/colab-badge.svg\" alt=\"Open In Colab\"/></a>"
      ]
    },
    {
      "cell_type": "code",
      "execution_count": 1,
      "metadata": {
        "id": "_8Q-uG_kc9cq"
      },
      "outputs": [],
      "source": [
        "# inheritance"
      ]
    },
    {
      "cell_type": "code",
      "source": [
        "class A:\n",
        "    def __init__(self):\n",
        "        print(\"A init executed\")\n",
        "\n",
        "class B(A):\n",
        "    def __init__(self):\n",
        "        super().__init__()\n",
        "        print(\"B init executed\")"
      ],
      "metadata": {
        "id": "NOs23hcDc_Xf"
      },
      "execution_count": 2,
      "outputs": []
    },
    {
      "cell_type": "code",
      "source": [
        "abc = B()"
      ],
      "metadata": {
        "colab": {
          "base_uri": "https://localhost:8080/"
        },
        "id": "8giWNfQcc_aQ",
        "outputId": "051ec4ae-37fe-4539-9994-7743ea650725"
      },
      "execution_count": 3,
      "outputs": [
        {
          "output_type": "stream",
          "name": "stdout",
          "text": [
            "A init executed\n",
            "B init executed\n"
          ]
        }
      ]
    },
    {
      "cell_type": "code",
      "source": [
        "# MRO (Method Resolution Order)"
      ],
      "metadata": {
        "id": "entcK3w5c_dH"
      },
      "execution_count": 4,
      "outputs": []
    },
    {
      "cell_type": "code",
      "source": [
        "class A:\n",
        "    pass\n",
        "\n",
        "class B(A):\n",
        "    x = 5\n",
        "\n",
        "class C(B):\n",
        "    pass\n",
        "\n",
        "class D(A):\n",
        "    x = 10\n",
        "\n",
        "class E(C, D):\n",
        "    pass"
      ],
      "metadata": {
        "id": "RMe6ggb8c_ft"
      },
      "execution_count": 5,
      "outputs": []
    },
    {
      "cell_type": "code",
      "source": [
        "e = E()"
      ],
      "metadata": {
        "id": "7IF2_lpCc_iU"
      },
      "execution_count": 6,
      "outputs": []
    },
    {
      "cell_type": "code",
      "source": [
        "print(e.x)"
      ],
      "metadata": {
        "colab": {
          "base_uri": "https://localhost:8080/"
        },
        "id": "-BovIck2c_lc",
        "outputId": "22ec7cbf-f9b8-4f90-feeb-9a4305bc8e6e"
      },
      "execution_count": 7,
      "outputs": [
        {
          "output_type": "stream",
          "name": "stdout",
          "text": [
            "5\n"
          ]
        }
      ]
    },
    {
      "cell_type": "code",
      "source": [
        "# DFS\n",
        "# if there is a loop solve branches differently"
      ],
      "metadata": {
        "id": "dqtZrMClc_oU"
      },
      "execution_count": 8,
      "outputs": []
    },
    {
      "cell_type": "code",
      "source": [
        "# Iteration Protocol\n",
        "\n",
        "# For any object to be an Iterable, it should have 2 dunders\n",
        "# 1. __iter__\n",
        "# 2. __next__\n",
        "\n",
        "# Protocol\n",
        "# Object's __iter__ method Should return an iterator\n",
        "# iterator __next__ method should return the new value on every cell\n",
        "# if the iterator reaches the end, it should raise an StopIteration exception"
      ],
      "metadata": {
        "id": "8hy7YyXrc_re"
      },
      "execution_count": 9,
      "outputs": []
    },
    {
      "cell_type": "code",
      "source": [
        "a = range(5)"
      ],
      "metadata": {
        "id": "7VGMor5Ac_uF"
      },
      "execution_count": 10,
      "outputs": []
    },
    {
      "cell_type": "code",
      "source": [
        "# it = a.__iter__()\n",
        "it = iter(a)"
      ],
      "metadata": {
        "id": "UaqRZBDFc_xc"
      },
      "execution_count": 11,
      "outputs": []
    },
    {
      "cell_type": "code",
      "source": [
        "it"
      ],
      "metadata": {
        "colab": {
          "base_uri": "https://localhost:8080/"
        },
        "id": "abEyMO0hc_0m",
        "outputId": "97ed7417-f197-4b31-9910-a80f9d86564f"
      },
      "execution_count": 12,
      "outputs": [
        {
          "output_type": "execute_result",
          "data": {
            "text/plain": [
              "<range_iterator at 0x7f19c54e11e0>"
            ]
          },
          "metadata": {},
          "execution_count": 12
        }
      ]
    },
    {
      "cell_type": "code",
      "source": [
        "# it.__next__()\n",
        "next(it)"
      ],
      "metadata": {
        "colab": {
          "base_uri": "https://localhost:8080/"
        },
        "id": "VwW4Vo2Sc_3s",
        "outputId": "663a75c1-fcc3-48b1-b2a1-7fccb2550955"
      },
      "execution_count": 13,
      "outputs": [
        {
          "output_type": "execute_result",
          "data": {
            "text/plain": [
              "0"
            ]
          },
          "metadata": {},
          "execution_count": 13
        }
      ]
    },
    {
      "cell_type": "code",
      "source": [
        "a = 'jatin'"
      ],
      "metadata": {
        "id": "gdaR_1rwc_6j"
      },
      "execution_count": 14,
      "outputs": []
    },
    {
      "cell_type": "code",
      "source": [
        "iter(a)"
      ],
      "metadata": {
        "colab": {
          "base_uri": "https://localhost:8080/"
        },
        "id": "FrlJmjShdduX",
        "outputId": "743cd52b-af9a-441c-e940-3dd14282fbde"
      },
      "execution_count": 15,
      "outputs": [
        {
          "output_type": "execute_result",
          "data": {
            "text/plain": [
              "<str_iterator at 0x7f19c54e1a60>"
            ]
          },
          "metadata": {},
          "execution_count": 15
        }
      ]
    },
    {
      "cell_type": "code",
      "source": [
        "for i in range(5):\n",
        "    print(i)"
      ],
      "metadata": {
        "colab": {
          "base_uri": "https://localhost:8080/"
        },
        "id": "jDYYgDVgddr9",
        "outputId": "35eae4ed-d6d1-44a4-fad4-19f12ad6bba3"
      },
      "execution_count": 16,
      "outputs": [
        {
          "output_type": "stream",
          "name": "stdout",
          "text": [
            "0\n",
            "1\n",
            "2\n",
            "3\n",
            "4\n"
          ]
        }
      ]
    },
    {
      "cell_type": "code",
      "source": [
        "class myrange:\n",
        "    def __init__(self, n):\n",
        "        self.n = n\n",
        "\n",
        "    def __iter__(self):\n",
        "        return myrange_iterator(self)\n",
        "\n",
        "class myrange_iterator:\n",
        "    def __init__(self, myrange):\n",
        "        self.myrange = myrange\n",
        "        self.i = 0\n",
        "\n",
        "    def __next__(self):\n",
        "        ret = self.i\n",
        "        self.i += 1\n",
        "\n",
        "        if ret >= self.myrange.n:\n",
        "            raise StopIteration\n",
        "\n",
        "\n",
        "        return ret\n",
        "In [182]:\n"
      ],
      "metadata": {
        "colab": {
          "base_uri": "https://localhost:8080/",
          "height": 130
        },
        "id": "ieHfHzorddpX",
        "outputId": "a2c2c69e-e130-44d7-ea0b-1852ebdc326c"
      },
      "execution_count": 17,
      "outputs": [
        {
          "output_type": "error",
          "ename": "SyntaxError",
          "evalue": "ignored",
          "traceback": [
            "\u001b[0;36m  File \u001b[0;32m\"<ipython-input-17-96780a036751>\"\u001b[0;36m, line \u001b[0;32m22\u001b[0m\n\u001b[0;31m    In [182]:\u001b[0m\n\u001b[0m             ^\u001b[0m\n\u001b[0;31mSyntaxError\u001b[0m\u001b[0;31m:\u001b[0m invalid syntax\n"
          ]
        }
      ]
    },
    {
      "cell_type": "code",
      "source": [
        "a = myrange(5)"
      ],
      "metadata": {
        "colab": {
          "base_uri": "https://localhost:8080/",
          "height": 164
        },
        "id": "B__miGi8ddmw",
        "outputId": "628741db-c3af-4718-d26f-24a8c4fba2cf"
      },
      "execution_count": 18,
      "outputs": [
        {
          "output_type": "error",
          "ename": "NameError",
          "evalue": "ignored",
          "traceback": [
            "\u001b[0;31m---------------------------------------------------------------------------\u001b[0m",
            "\u001b[0;31mNameError\u001b[0m                                 Traceback (most recent call last)",
            "\u001b[0;32m<ipython-input-18-44d9b4d99fe9>\u001b[0m in \u001b[0;36m<module>\u001b[0;34m\u001b[0m\n\u001b[0;32m----> 1\u001b[0;31m \u001b[0ma\u001b[0m \u001b[0;34m=\u001b[0m \u001b[0mmyrange\u001b[0m\u001b[0;34m(\u001b[0m\u001b[0;36m5\u001b[0m\u001b[0;34m)\u001b[0m\u001b[0;34m\u001b[0m\u001b[0;34m\u001b[0m\u001b[0m\n\u001b[0m",
            "\u001b[0;31mNameError\u001b[0m: name 'myrange' is not defined"
          ]
        }
      ]
    },
    {
      "cell_type": "code",
      "source": [
        "# for (int i =0; i<10; i++)"
      ],
      "metadata": {
        "id": "Xja4QVZRddka"
      },
      "execution_count": 19,
      "outputs": []
    },
    {
      "cell_type": "code",
      "source": [
        "it = iter(a)"
      ],
      "metadata": {
        "id": "I1B3s4nGddhy"
      },
      "execution_count": 20,
      "outputs": []
    },
    {
      "cell_type": "code",
      "source": [
        "next(it)"
      ],
      "metadata": {
        "colab": {
          "base_uri": "https://localhost:8080/",
          "height": 35
        },
        "id": "_MwvSAAQdde-",
        "outputId": "0c938677-f31d-49f6-ec27-1108e7fdee5e"
      },
      "execution_count": 21,
      "outputs": [
        {
          "output_type": "execute_result",
          "data": {
            "text/plain": [
              "'j'"
            ],
            "application/vnd.google.colaboratory.intrinsic+json": {
              "type": "string"
            }
          },
          "metadata": {},
          "execution_count": 21
        }
      ]
    }
  ]
}